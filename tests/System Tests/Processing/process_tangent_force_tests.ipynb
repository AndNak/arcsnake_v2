{
 "cells": [
  {
   "cell_type": "code",
   "execution_count": 8,
   "metadata": {},
   "outputs": [
    {
     "name": "stdout",
     "output_type": "stream",
     "text": [
      "config3_v-10_t1.csv\n",
      "config3_v10_t1.csv\n",
      "config3_v20_t2.csv\n",
      "config3_v40_t3.csv\n",
      "config3_v50_t4.csv\n"
     ]
    }
   ],
   "source": [
    "### Read in motor data\n",
    "import os\n",
    "import pandas as pd\n",
    "\n",
    "motor_data = []\n",
    "folder = \"../TangentForceTests/\"\n",
    "for f in os.listdir(folder):\n",
    "    if f.endswith('.csv'):\n",
    "        print(f)\n",
    "        motor_data.append(pd.read_csv(os.path.join(folder, f)))\n",
    "\n",
    "### Read in FT data\n",
    "# ft_folder = \"C:/Users/motiongenesis/Documents/5-17-24_screwshell_tangentforce_tests\"\n",
    "# for f in \n"
   ]
  }
 ],
 "metadata": {
  "kernelspec": {
   "display_name": "Python 3",
   "language": "python",
   "name": "python3"
  },
  "language_info": {
   "codemirror_mode": {
    "name": "ipython",
    "version": 3
   },
   "file_extension": ".py",
   "mimetype": "text/x-python",
   "name": "python",
   "nbconvert_exporter": "python",
   "pygments_lexer": "ipython3",
   "version": "3.11.9"
  }
 },
 "nbformat": 4,
 "nbformat_minor": 2
}
