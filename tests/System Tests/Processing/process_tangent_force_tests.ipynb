{
 "cells": [
  {
   "cell_type": "code",
   "execution_count": 9,
   "metadata": {},
   "outputs": [
    {
     "name": "stdout",
     "output_type": "stream",
     "text": [
      "../TangentForceTests/config3_v10_t1.csv\n",
      "C:/Users/jlimk/Documents/5-17-24_screwshell_tangentforce_tests_ft_data\\test1.csv\n",
      "../TangentForceTests/config3_v20_t2.csv\n",
      "C:/Users/jlimk/Documents/5-17-24_screwshell_tangentforce_tests_ft_data\\test2.csv\n",
      "../TangentForceTests/config3_v40_t3.csv\n",
      "C:/Users/jlimk/Documents/5-17-24_screwshell_tangentforce_tests_ft_data\\test3.csv\n",
      "../TangentForceTests/config3_v50_t4.csv\n",
      "C:/Users/jlimk/Documents/5-17-24_screwshell_tangentforce_tests_ft_data\\test4.csv\n"
     ]
    }
   ],
   "source": [
    "### Read in motor data\n",
    "import os\n",
    "import pandas as pd\n",
    "\n",
    "motor_data = []\n",
    "ft_data = []\n",
    "motor_data_folder = \"../TangentForceTests/\"\n",
    "ft_data_folder = \"C:/Users/jlimk/Documents/5-17-24_screwshell_tangentforce_tests_ft_data\"\n",
    "motor_file_suffixes = [\"v10_t1\", \"v20_t2\", \"v40_t3\", \"v50_t4\"]\n",
    "for i in range(4):\n",
    "    motor_data_filename = os.path.join(motor_data_folder, f\"config3_{motor_file_suffixes[i]}.csv\")\n",
    "    ft_data_filename = os.path.join(ft_data_folder, f\"test{i+1}.csv\")\n",
    "    print(motor_data_filename)\n",
    "    print(ft_data_filename)\n",
    "    motor_data.append(pd.read_csv(motor_data_filename))\n",
    "    ft_data.append(pd.read_csv(ft_data_filename, skiprows=list(range(6))))\n",
    "\n"
   ]
  },
  {
   "cell_type": "code",
   "execution_count": 7,
   "metadata": {},
   "outputs": [
    {
     "name": "stdout",
     "output_type": "stream",
     "text": [
      "C:/Users/jlimk/Documents/5-17-24_screwshell_tangentforce_tests_ft_data\\test1.csv\n",
      "C:/Users/jlimk/Documents/5-17-24_screwshell_tangentforce_tests_ft_data\\test2.csv\n",
      "C:/Users/jlimk/Documents/5-17-24_screwshell_tangentforce_tests_ft_data\\test3.csv\n",
      "C:/Users/jlimk/Documents/5-17-24_screwshell_tangentforce_tests_ft_data\\test4.csv\n"
     ]
    }
   ],
   "source": [
    "import os\n",
    "import csv\n",
    "\n",
    "os.getcwd()\n",
    "\n",
    "\n"
   ]
  }
 ],
 "metadata": {
  "kernelspec": {
   "display_name": "Python 3",
   "language": "python",
   "name": "python3"
  },
  "language_info": {
   "codemirror_mode": {
    "name": "ipython",
    "version": 3
   },
   "file_extension": ".py",
   "mimetype": "text/x-python",
   "name": "python",
   "nbconvert_exporter": "python",
   "pygments_lexer": "ipython3",
   "version": "3.8.8"
  }
 },
 "nbformat": 4,
 "nbformat_minor": 2
}
